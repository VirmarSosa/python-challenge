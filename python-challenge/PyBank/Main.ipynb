{
 "cells": [
  {
   "cell_type": "code",
   "execution_count": 1,
   "id": "2b113665",
   "metadata": {
    "scrolled": true
   },
   "outputs": [
    {
     "name": "stdout",
     "output_type": "stream",
     "text": [
      "Financial Analysis\n",
      "\n",
      "__________________________________\n",
      "\n",
      "Total Months: 86\n",
      "Total: $22564198\n",
      "Average Change: -8311.11\n",
      "The greatest Increase Profit: 1862002.0\n",
      "The greatest Increase Profit: -1825558.0\n"
     ]
    }
   ],
   "source": [
    "import os\n",
    "import csv\n",
    "import pandas as pd\n",
    "\n",
    "csvpath = os.path.join(\"Resources/budget_data.csv\")\n",
    "with open (csvpath, encoding= 'utf') as csvfile : \n",
    "    csvreader = csv.reader(csvfile, delimiter= ',' )\n",
    "    #print (csvreader)\n",
    "    csv_header = next(csvreader)\n",
    "    #print(f'CSV Header: {csv_header}')\n",
    "\n",
    "#Total months\n",
    "\n",
    "    #for row in csvreader :\n",
    "        #print(row)\n",
    "    print(\"Financial Analysis\")\n",
    "    print(\"\")\n",
    "    print(\"__________________________________\")\n",
    "    print(\"\")\n",
    "    \n",
    "    \n",
    "    file_count = open(\"Resources/budget_data.csv\")\n",
    "    reader = csv.reader(file_count)\n",
    "    lines = len(list(reader))\n",
    "    print(f'Total Months: {lines -1}')\n",
    "    \n",
    "#Total Profit/Losses\n",
    "    \n",
    "df = pd.read_csv(\"Resources/budget_data.csv\")\n",
    "\n",
    "sumcol = df['Profit/Losses'].sum()\n",
    "\n",
    "print(\"Total: $\"+ str(sumcol))\n",
    "    \n",
    "#Average Change\n",
    "\n",
    "df2 = df['Profit/Losses'].diff()\n",
    "df3 = df2.mean()\n",
    "\n",
    "print(f'Average Change: {round(df3, 2)}')\n",
    "\n",
    "#The greatest increase in profits (date and amount) over the entire period\n",
    "\n",
    "df4 = df2.max(axis = 0)\n",
    "print(f'The greatest Increase Profit: {df4}')\n",
    "\n",
    "\n",
    "#The greatest decrease in profits (date and amount) over the entire period      \n",
    "\n",
    "df5 = df2.min(axis = 0)\n",
    "print(f'The greatest Increase Profit: {df5}')\n",
    "\n",
    "\n",
    "txtfile = \"financial_analysis.txt\"\n",
    "with open(txtfile, 'w') as output:\n",
    "\n",
    "\n",
    "    output.write(\"Financial Analysis\\n\")\n",
    "    \n",
    "    output.write(\"____________________________________________\\n\")\n",
    "    \n",
    "    output.write(\"\\n\")\n",
    "    \n",
    "    output.write(\"Total: $\"+ str(sumcol) +\"\\n\")\n",
    "    \n",
    "    output.write(\"____________________________________________\\n\")\n",
    "    \n",
    "    output.write(\"\\n\")\n",
    "    \n",
    "    output.write(f'Average Change: {round(df3, 2)} \\n')\n",
    "    \n",
    "    output.write(f'The greatest Increase Profit: {df4}\\n')\n",
    "    \n",
    "    output.write(f'The greatest Increase Profit: {df5}\\n')\n",
    "\n"
   ]
  },
  {
   "cell_type": "code",
   "execution_count": null,
   "id": "9f77a0fd",
   "metadata": {},
   "outputs": [],
   "source": []
  }
 ],
 "metadata": {
  "kernelspec": {
   "display_name": "Python 3 (ipykernel)",
   "language": "python",
   "name": "python3"
  },
  "language_info": {
   "codemirror_mode": {
    "name": "ipython",
    "version": 3
   },
   "file_extension": ".py",
   "mimetype": "text/x-python",
   "name": "python",
   "nbconvert_exporter": "python",
   "pygments_lexer": "ipython3",
   "version": "3.9.13"
  }
 },
 "nbformat": 4,
 "nbformat_minor": 5
}
