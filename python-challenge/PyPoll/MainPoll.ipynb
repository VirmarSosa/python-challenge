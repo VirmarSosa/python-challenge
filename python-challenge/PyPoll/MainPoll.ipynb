{
 "cells": [
  {
   "cell_type": "code",
   "execution_count": 1,
   "id": "d779e5db",
   "metadata": {},
   "outputs": [
    {
     "name": "stdout",
     "output_type": "stream",
     "text": [
      "Election Result\n",
      "\n",
      "__________________________________\n",
      "\n",
      "Total Votes: 369711\n",
      "\n",
      "__________________________________\n"
     ]
    }
   ],
   "source": [
    "import os\n",
    "import csv\n",
    "import pandas as pd\n",
    "\n",
    "vote_list= []\n",
    "total_vote= 0\n",
    "candidates = []\n",
    "vote_candidate= 0\n",
    "\n",
    "\n",
    "#Open file\n",
    "\n",
    "csvpath = os.path.join(\"Resources/election_data.csv\")\n",
    "with open (csvpath, encoding= 'utf') as csvfile : \n",
    "    csvreader = csv.reader(csvfile, delimiter= ',' )\n",
    "    #print (csvreader)\n",
    "    csv_header = next(csvreader)\n",
    "    #print(f'CSV Header: {csv_header}')    \n",
    "    print(\"Election Result\")\n",
    "    print(\"\")\n",
    "    print(\"__________________________________\")\n",
    "    print(\"\")  \n",
    "\n",
    "#Total Votes\n",
    " \n",
    "    for row in csvreader:\n",
    "        vote_list.append(row[2])\n",
    "\n",
    "total_vote = len(vote_list)    \n",
    "     \n",
    "print(f'Total Votes: {total_vote}')\n",
    "print(\"\")\n",
    "print(\"__________________________________\")"
   ]
  },
  {
   "cell_type": "code",
   "execution_count": 2,
   "id": "e6b05b75",
   "metadata": {},
   "outputs": [],
   "source": [
    "# Candidates\n",
    "candidates = []\n",
    "\n",
    "for candidate in vote_list:\n",
    "    x = candidate\n",
    "    if candidate not in candidates:\n",
    "        \n",
    "        candidates.append(candidate)   \n",
    "        "
   ]
  },
  {
   "cell_type": "code",
   "execution_count": 3,
   "id": "d3129e67",
   "metadata": {},
   "outputs": [
    {
     "name": "stdout",
     "output_type": "stream",
     "text": [
      "Charles Casper Stockham: Votes (85213)/23.049%\n",
      "Diana DeGette: Votes (358105)/96.861%\n",
      "Raymon Anthony Doane: Votes (369711)/100.000%\n"
     ]
    }
   ],
   "source": [
    "# Total votes candidates\n",
    "\n",
    "vote_candidate = 0\n",
    "candidate = vote_list[0]\n",
    "count = 0\n",
    "percentage_candidate = []\n",
    "total_candidate = []\n",
    "final_count = 0\n",
    "\n",
    "for candidate in candidates:\n",
    "    for vote in vote_list:\n",
    "        if candidate == vote:\n",
    "            count += 1\n",
    "            \n",
    "        percent = count / len(vote_list)\n",
    "        percentage_candidate.append(percent)\n",
    "        total_candidate.append(count)\n",
    "     \n",
    "    if final_count < count:\n",
    "        Winner = candidate    \n",
    "        print(f\"{candidate}: Votes ({count})/{percent:.3%}\")\n",
    "    \n",
    "\n",
    "txtfile= \"election_result.txt\"\n",
    "        \n",
    "with open(txtfile, 'w') as output:\n",
    "\n",
    "\n",
    "    output.write(\"Election Result\")\n",
    "    output.write(\"____________________________________________\\n\")\n",
    "\n",
    "    output.write(f'Total Votes: {total_vote}\\n')\n",
    "    \n",
    "    output.write(\"____________________________________________\\n\")\n",
    "    \n",
    "    for candidate in candidates:\n",
    "        index = candidates.index(candidate)\n",
    "        output.write(f\"{candidate}: Votes ({count})/{percent:.3%}\\n\")\n"
   ]
  },
  {
   "cell_type": "code",
   "execution_count": null,
   "id": "65517eef",
   "metadata": {},
   "outputs": [],
   "source": []
  },
  {
   "cell_type": "code",
   "execution_count": null,
   "id": "135a4f9a",
   "metadata": {},
   "outputs": [],
   "source": []
  }
 ],
 "metadata": {
  "kernelspec": {
   "display_name": "Python 3 (ipykernel)",
   "language": "python",
   "name": "python3"
  },
  "language_info": {
   "codemirror_mode": {
    "name": "ipython",
    "version": 3
   },
   "file_extension": ".py",
   "mimetype": "text/x-python",
   "name": "python",
   "nbconvert_exporter": "python",
   "pygments_lexer": "ipython3",
   "version": "3.9.13"
  }
 },
 "nbformat": 4,
 "nbformat_minor": 5
}
